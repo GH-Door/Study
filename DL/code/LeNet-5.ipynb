{
 "cells": [
  {
   "cell_type": "code",
   "execution_count": 1,
   "id": "c73abe65",
   "metadata": {},
   "outputs": [
    {
     "name": "stderr",
     "output_type": "stream",
     "text": [
      "/Users/mungughyeon/miniforge3/envs/Study/lib/python3.9/site-packages/torchvision/io/image.py:14: UserWarning: Failed to load image Python extension: 'dlopen(/Users/mungughyeon/miniforge3/envs/Study/lib/python3.9/site-packages/torchvision/image.so, 0x0006): Library not loaded: @rpath/libjpeg.9.dylib\n",
      "  Referenced from: <FB2FD416-6C4D-3621-B677-61F07C02A3C5> /Users/mungughyeon/miniforge3/envs/Study/lib/python3.9/site-packages/torchvision/image.so\n",
      "  Reason: tried: '/Users/mungughyeon/miniforge3/envs/Study/lib/python3.9/site-packages/torchvision/../../../libjpeg.9.dylib' (no such file), '/Users/mungughyeon/miniforge3/envs/Study/lib/python3.9/site-packages/torchvision/../../../libjpeg.9.dylib' (no such file), '/Users/mungughyeon/miniforge3/envs/Study/lib/python3.9/lib-dynload/../../libjpeg.9.dylib' (no such file), '/Users/mungughyeon/miniforge3/envs/Study/bin/../lib/libjpeg.9.dylib' (no such file)'If you don't plan on using image functionality from `torchvision.io`, you can ignore this warning. Otherwise, there might be something wrong with your environment. Did you have `libjpeg` or `libpng` installed before building `torchvision` from source?\n",
      "  warn(\n"
     ]
    }
   ],
   "source": [
    "import torch\n",
    "import torch.nn as nn\n",
    "import torch.optim as optim\n",
    "import torchvision\n",
    "import torchvision.transforms as transforms\n",
    "import matplotlib.pyplot as plt\n",
    "import warnings\n",
    "from torch.utils.data import DataLoader"
   ]
  },
  {
   "cell_type": "code",
   "execution_count": 2,
   "id": "04eba46e",
   "metadata": {},
   "outputs": [],
   "source": [
    "# LeNet-5 Model\n",
    "class LeNet5(nn.Module):\n",
    "    def __init__(self):\n",
    "        super(LeNet5, self).__init__()\n",
    "        self.conv1 = nn.Conv2d(1, 6, kernel_size=5)   # (1, 32, 32) -> (6, 28, 28)\n",
    "        self.pool = nn.AvgPool2d(2, 2)               # (6, 28, 28) -> (6, 14, 14)\n",
    "        self.conv2 = nn.Conv2d(6, 16, kernel_size=5) # (6, 14, 14) -> (16, 10, 10)\n",
    "        self.fc1 = nn.Linear(16*5*5, 120)\n",
    "        self.fc2 = nn.Linear(120, 84)\n",
    "        self.fc3 = nn.Linear(84, 10)\n",
    "\n",
    "    def forward(self, x):\n",
    "        x = torch.tanh(self.conv1(x))\n",
    "        x = self.pool(x)\n",
    "        x = torch.tanh(self.conv2(x))\n",
    "        x = self.pool(x)\n",
    "        x = x.view(-1, 16*5*5)\n",
    "        x = torch.tanh(self.fc1(x))\n",
    "        x = torch.tanh(self.fc2(x))\n",
    "        x = self.fc3(x)\n",
    "        return x"
   ]
  },
  {
   "cell_type": "code",
   "execution_count": null,
   "id": "25a7be71",
   "metadata": {},
   "outputs": [
    {
     "name": "stdout",
     "output_type": "stream",
     "text": [
      "[Epoch 1/5] Loss: 0.2929\n",
      "[Epoch 2/5] Loss: 0.0955\n",
      "[Epoch 3/5] Loss: 0.0632\n",
      "[Epoch 4/5] Loss: 0.0474\n",
      "[Epoch 5/5] Loss: 0.0386\n",
      "Test Accuracy: 98.41%\n"
     ]
    },
    {
     "data": {
      "image/png": "[encoded data removed]",
      "text/plain": [
       "<Figure size 1400x600 with 8 Axes>"
      ]
     },
     "metadata": {},
     "output_type": "display_data"
    }
   ],
   "source": [
    "warnings.filterwarnings('ignore')\n",
    "\n",
    "def load_data(batch_size=64):\n",
    "    transform = transforms.Compose([\n",
    "        transforms.Resize((32, 32)),\n",
    "        transforms.ToTensor()])\n",
    "    \n",
    "    trainset = torchvision.datasets.MNIST(root='../data', train=True, download=True, transform=transform)\n",
    "    testset = torchvision.datasets.MNIST(root='../data', train=False, download=True, transform=transform)\n",
    "\n",
    "    trainloader = DataLoader(trainset, batch_size=batch_size, shuffle=True)\n",
    "    testloader = DataLoader(testset, batch_size=batch_size, shuffle=False)\n",
    "    \n",
    "    return trainloader, testloader\n",
    "\n",
    "def train_model(model, trainloader, criterion, optimizer, device, num_epochs=5):\n",
    "    model.train()\n",
    "    for epoch in range(num_epochs):\n",
    "        running_loss = 0.0\n",
    "        for inputs, labels in trainloader:\n",
    "            inputs, labels = inputs.to(device), labels.to(device)\n",
    "\n",
    "            optimizer.zero_grad()\n",
    "            outputs = model(inputs)\n",
    "            loss = criterion(outputs, labels)\n",
    "            loss.backward()\n",
    "            optimizer.step()\n",
    "\n",
    "            running_loss += loss.item()\n",
    "\n",
    "        avg_loss = running_loss / len(trainloader)\n",
    "        print(f\"[Epoch {epoch+1}/{num_epochs}] Loss: {avg_loss:.4f}\")\n",
    "\n",
    "\n",
    "def evaluate_model(model, testloader, device):\n",
    "    model.eval()\n",
    "    correct = 0\n",
    "    total = 0\n",
    "    with torch.no_grad():\n",
    "        for inputs, labels in testloader:\n",
    "            inputs, labels = inputs.to(device), labels.to(device)\n",
    "            outputs = model(inputs)\n",
    "            _, predicted = torch.max(outputs.data, 1)\n",
    "            total += labels.size(0)\n",
    "            correct += (predicted == labels).sum().item()\n",
    "\n",
    "    accuracy = 100 * correct / total\n",
    "    print(f\"Test Accuracy: {accuracy:.2f}%\")\n",
    "\n",
    "def visualize_predictions(model, testloader, device, num_images=8):\n",
    "    model.eval()\n",
    "    images, labels = next(iter(testloader))\n",
    "    images, labels = images.to(device), labels.to(device)\n",
    "    \n",
    "    outputs = model(images)\n",
    "    _, preds = torch.max(outputs, 1)\n",
    "    \n",
    "    images = images.cpu()\n",
    "    \n",
    "    fig, axes = plt.subplots(1, num_images, figsize=(14, 6))\n",
    "    for idx in range(num_images):\n",
    "        img = images[idx].squeeze()\n",
    "        axes[idx].imshow(img, cmap='gray')\n",
    "        axes[idx].set_title(f\"GT:{labels[idx].item()} / Pred:{preds[idx].item()}\")\n",
    "        axes[idx].axis('off')\n",
    "    plt.show()\n",
    "\n",
    "def main():\n",
    "    # 설정\n",
    "    device = torch.device('cuda' if torch.cuda.is_available() else 'cpu')\n",
    "    batch_size = 64\n",
    "    num_epochs = 5\n",
    "    learning_rate = 0.001\n",
    "\n",
    "    # 데이터 준비\n",
    "    trainloader, testloader = load_data(batch_size)\n",
    "\n",
    "    # 모델, 손실함수, 최적화 설정\n",
    "    model = LeNet5().to(device)\n",
    "    criterion = nn.CrossEntropyLoss()\n",
    "    optimizer = optim.Adam(model.parameters(), lr=learning_rate)\n",
    "\n",
    "    train_model(model, trainloader, criterion, optimizer, device, num_epochs) # 학습\n",
    "    evaluate_model(model, testloader, device) # 평가\n",
    "    visualize_predictions(model, testloader, device) # 예측 결과 시각화\n",
    "\n",
    "if __name__ == \"__main__\":\n",
    "    main()"
   ]
  }
 ],
 "metadata": {
  "kernelspec": {
   "display_name": "Study",
   "language": "python",
   "name": "python3"
  },
  "language_info": {
   "codemirror_mode": {
    "name": "ipython",
    "version": 3
   },
   "file_extension": ".py",
   "mimetype": "text/x-python",
   "name": "python",
   "nbconvert_exporter": "python",
   "pygments_lexer": "ipython3",
   "version": "3.9.21"
  }
 },
 "nbformat": 4,
 "nbformat_minor": 5
}
